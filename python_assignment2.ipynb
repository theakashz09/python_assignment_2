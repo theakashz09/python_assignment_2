{
 "cells": [
  {
   "cell_type": "raw",
   "id": "937e429a-d5b4-4f54-8332-1f74a6a9e3b8",
   "metadata": {},
   "source": [
    " Q1. Create a python program to sort the given list of tuples based on integer value using a lambda function\n",
    " [('Sachin Tendulkar', 34357), ('Ricky Ponting', 27483), ('Jack Kallis', 25534), ('Virat Kohli', 24936)]\n",
    " \n",
    " Ans= "
   ]
  },
  {
   "cell_type": "code",
   "execution_count": 3,
   "id": "fd1e5ccf-b786-4f24-a6d2-62fe9bc158c5",
   "metadata": {},
   "outputs": [
    {
     "name": "stdout",
     "output_type": "stream",
     "text": [
      "[('Virat Kohli', 24936), ('Jack Kallis', 25534), ('Ricky Ponting', 27483), ('Sachin Tendulkar', 34357)]\n"
     ]
    }
   ],
   "source": [
    "l1 = [('Sachin Tendulkar', 34357), ('Ricky Ponting', 27483), ('Jack Kallis', 25534), ('Virat Kohli', 24936)]\n",
    "l1.sort(key= lambda x:x[1])\n",
    "print(l1)"
   ]
  },
  {
   "cell_type": "raw",
   "id": "445675dd-cde4-4a62-87b7-87e181daf5fd",
   "metadata": {},
   "source": [
    "Q2. Write a Python Program to find the squares of all the numbers in the given list of integers using\n",
    "lambda and map functions.\n",
    "[1, 2, 3, 4, 5, 6, 7, 8, 9, 10]\n",
    "\n",
    "Ans="
   ]
  },
  {
   "cell_type": "code",
   "execution_count": 8,
   "id": "e5acd5a9-1b39-4e71-8b76-0f3dacdba168",
   "metadata": {},
   "outputs": [
    {
     "name": "stdout",
     "output_type": "stream",
     "text": [
      "[1, 4, 9, 16, 25, 36, 49, 64, 81, 100]\n"
     ]
    }
   ],
   "source": [
    "l1= [1, 2, 3, 4, 5, 6, 7, 8, 9, 10]\n",
    "print (list(map(lambda x: x * x,l1)))"
   ]
  },
  {
   "cell_type": "raw",
   "id": "141c21f3-4685-425b-8030-fcd74bb0b84a",
   "metadata": {},
   "source": [
    "Q3. Write a python program to convert the given list of integers into a tuple of strings. Use map and\n",
    "lambda functions\n",
    "Given String: [1, 2, 3, 4, 5, 6, 7, 8, 9, 10]\n",
    "Expected output: ('1', '2', '3', '4', '5', '6', '7', '8', '9', '10')\n",
    "\n",
    "Ans ="
   ]
  },
  {
   "cell_type": "code",
   "execution_count": 9,
   "id": "5207554e-21c5-4962-b9b2-2c6467e514e6",
   "metadata": {},
   "outputs": [
    {
     "name": "stdout",
     "output_type": "stream",
     "text": [
      "('1', '2', '3', '4', '5', '6', '7', '8', '9', '10')\n"
     ]
    }
   ],
   "source": [
    "l4 =  [1, 2, 3, 4, 5, 6, 7, 8, 9, 10]\n",
    "print (tuple(map(lambda x: str(x),l4)))"
   ]
  },
  {
   "cell_type": "raw",
   "id": "1f94b64c-f0a5-488d-b5f6-ce4ce1abd854",
   "metadata": {},
   "source": [
    "Q4. Write a python program using reduce function to compute the product of a list containing numbers\n",
    "from 1 to 25.\n",
    "Ans = l4 = list(range(1, 26))\n",
    "print(l4)\n",
    "sum = reduce(lambda x, y: x + y, l4)\n",
    "sum1 = reduce(lambda x, y: x * y, l4)\n",
    "print(sum)\n",
    "print(sum1)"
   ]
  },
  {
   "cell_type": "code",
   "execution_count": 15,
   "id": "346d91f4-23d0-49be-90cc-eb5d3f3962e4",
   "metadata": {},
   "outputs": [
    {
     "name": "stdout",
     "output_type": "stream",
     "text": [
      "[1, 2, 3, 4, 5, 6, 7, 8, 9, 10, 11, 12, 13, 14, 15, 16, 17, 18, 19, 20, 21, 22, 23, 24, 25]\n",
      "25\n",
      "15511210043330985984000000\n"
     ]
    }
   ],
   "source": [
    "list_4 = list(range(1,26))\n",
    "print(list_4)\n",
    "sum = reduce(lambda x,y:y,list_4)\n",
    "sum1 = reduce (lambda x,y:x * y,list_4)\n",
    "print (sum)\n",
    "print (sum1)"
   ]
  },
  {
   "cell_type": "raw",
   "id": "27f1d915-908d-425f-b972-61b4634ec982",
   "metadata": {},
   "source": [
    "Q5. Write a python program to filter the numbers in a given list that are divisible by 2 and 3 using the\n",
    "filter function.\n",
    "[2, 3, 6, 9, 27, 60, 90, 120, 55, 46]\n",
    "\n",
    "Ans = l5 = [2, 3, 6, 9, 27, 60, 90, 120, 55, 46]\n",
    "print(list(filter(lambda x: x % 2 == 0 and x % 3 == 0, l5)))\n"
   ]
  },
  {
   "cell_type": "code",
   "execution_count": 17,
   "id": "cb1f6bb0-f79c-4b62-be71-cbe057934545",
   "metadata": {},
   "outputs": [
    {
     "name": "stdout",
     "output_type": "stream",
     "text": [
      "[6, 60, 90, 120]\n"
     ]
    }
   ],
   "source": [
    "l7 = [2, 3, 6, 9, 27, 60, 90, 120, 55, 46]\n",
    "print(list(filter(lambda x: x % 2 == 0 and x % 3 == 0, l7)))"
   ]
  },
  {
   "cell_type": "raw",
   "id": "c3256b99-d957-4f19-a970-00aab0e6cfa5",
   "metadata": {},
   "source": [
    "Q6. Write a python program to find palindromes in the given list of strings using lambda and filter\n",
    "function.\n",
    "['python', 'php', 'aba', 'radar', 'level']\n",
    "\n",
    "Ans ="
   ]
  },
  {
   "cell_type": "code",
   "execution_count": 19,
   "id": "47f02251-3003-43bf-a7cb-0bbe781a03ad",
   "metadata": {},
   "outputs": [
    {
     "name": "stdout",
     "output_type": "stream",
     "text": [
      "['php', 'aba', 'radar', 'level']\n"
     ]
    }
   ],
   "source": [
    "l8 = ['python', 'php', 'aba', 'radar', 'level']\n",
    "print (list(filter(lambda x:x == x[::-1], l8)))\n"
   ]
  },
  {
   "cell_type": "code",
   "execution_count": null,
   "id": "15b0da0a-0166-4d54-bf09-6d99025839dd",
   "metadata": {},
   "outputs": [],
   "source": []
  }
 ],
 "metadata": {
  "kernelspec": {
   "display_name": "Python 3 (ipykernel)",
   "language": "python",
   "name": "python3"
  },
  "language_info": {
   "codemirror_mode": {
    "name": "ipython",
    "version": 3
   },
   "file_extension": ".py",
   "mimetype": "text/x-python",
   "name": "python",
   "nbconvert_exporter": "python",
   "pygments_lexer": "ipython3",
   "version": "3.10.8"
  }
 },
 "nbformat": 4,
 "nbformat_minor": 5
}
